[![Open In Colab](https://colab.research.google.com/assets/colab-badge.svg)](https://colab.research.google.com/github/truongtuan2508/CS114.M11.KHCL/blob/main/Assignments/PredictRunTime.ipynb)
{
  "nbformat": 4,
  "nbformat_minor": 0,
  "metadata": {
    "colab": {
      "name": "PredictRunTime.ipynb",
      "provenance": [],
      "collapsed_sections": []
    },
    "kernelspec": {
      "name": "python3",
      "display_name": "Python 3"
    },
    "language_info": {
      "name": "python"
    }
  },
  "cells": [
    {
      "cell_type": "markdown",
      "metadata": {
        "id": "8D4-YfX4L5Ws"
      },
      "source": [
        "#Nhóm TST"
      ]
    },
    {
      "cell_type": "code",
      "metadata": {
        "id": "MpcPvo27R-vj"
      },
      "source": [
        "import numpy as np\n",
        "import matplotlib.pyplot as plt\n",
        "import random\n",
        "import pandas as pd\n",
        "from sklearn.preprocessing import StandardScaler\n",
        "from sklearn.metrics import roc_auc_score\n",
        "\n",
        "from sklearn.model_selection import KFold\n",
        "from sklearn.model_selection import cross_val_score\n",
        "\n",
        "from sklearn.linear_model import LinearRegression\n",
        "from sklearn.metrics import r2_score\n",
        "from sklearn.metrics import mean_squared_error"
      ],
      "execution_count": 3,
      "outputs": []
    },
    {
      "cell_type": "code",
      "metadata": {
        "id": "YiwuiTQ8xRyZ"
      },
      "source": [
        "df_train = pd.read_csv('train.csv')\n",
        "df_test = pd.read_csv('test.csv')"
      ],
      "execution_count": 9,
      "outputs": []
    },
    {
      "cell_type": "code",
      "metadata": {
        "id": "24XQNQMTyCeP"
      },
      "source": [
        "X_train = df_train.loc[:, ['Size']].values\n",
        "y_train = df_train.loc[:, ['Time']].values\n",
        "\n",
        "X_test = df_test.loc[:, ['Size']].values\n",
        "y_test = df_test.loc[:, ['Time']].values"
      ],
      "execution_count": 10,
      "outputs": []
    },
    {
      "cell_type": "markdown",
      "metadata": {
        "id": "yYYja__2NtiF"
      },
      "source": [
        "## Chuẩn hóa dữ liệu"
      ]
    },
    {
      "cell_type": "code",
      "metadata": {
        "id": "n-skzqJGyMsO"
      },
      "source": [
        "scaler = StandardScaler()\n",
        "\n",
        "X_train = scaler.fit_transform(X_train)\n",
        "y_train = scaler.fit_transform(y_train)\n",
        "\n",
        "X_test = scaler.fit_transform(X_test)\n",
        "y_test = scaler.fit_transform(y_test)"
      ],
      "execution_count": 11,
      "outputs": []
    },
    {
      "cell_type": "code",
      "metadata": {
        "id": "bpameLFFyeD9"
      },
      "source": [
        "model = LinearRegression()\n",
        "model.fit(X_train, y_train)\n",
        "\n",
        "y_pred = model.predict(X_test)"
      ],
      "execution_count": 12,
      "outputs": []
    },
    {
      "cell_type": "code",
      "metadata": {
        "id": "qnx8L11gyjVo",
        "colab": {
          "base_uri": "https://localhost:8080/"
        },
        "outputId": "19c92aa9-d0a5-4ad4-8157-f8701bf9f4ed"
      },
      "source": [
        "lr_acc = cross_val_score(model, X_test, y_test)\n",
        "print(\"Accuracy = \", lr_acc.mean())\n",
        "\n",
        "score_mse = cross_val_score(model, X_test, y_test, scoring='neg_mean_squared_error')\n",
        "print(\"MSE  = \", score_mse.mean())\n",
        "\n",
        "score_r2 = cross_val_score(model, X_test, y_test, scoring='r2')\n",
        "print(\"R2  = \", score_r2.mean())"
      ],
      "execution_count": 13,
      "outputs": [
        {
          "output_type": "stream",
          "name": "stdout",
          "text": [
            "Accuracy =  0.9874802570998329\n",
            "MSE  =  -0.01249449708758077\n",
            "R2  =  0.9874802570998329\n"
          ]
        }
      ]
    },
    {
      "cell_type": "markdown",
      "metadata": {
        "id": "MfGaHhpWNjT_"
      },
      "source": [
        "##Trực quan hóa dữ liệu"
      ]
    },
    {
      "cell_type": "code",
      "metadata": {
        "id": "gT-4FdzLynle",
        "colab": {
          "base_uri": "https://localhost:8080/",
          "height": 279
        },
        "outputId": "7efcebf4-3710-4d36-9c4b-85cb4701fe55"
      },
      "source": [
        "plt.scatter(df_test.Size, df_test.Time, color='blue')\n",
        "plt.xlabel(\"Size\")\n",
        "plt.ylabel(\"Time\")\n",
        "plt.show()"
      ],
      "execution_count": 14,
      "outputs": [
        {
          "output_type": "display_data",
          "data": {
            "image/png": "[encoded data removed]",
            "text/plain": [
              "<Figure size 432x288 with 1 Axes>"
            ]
          },
          "metadata": {
            "needs_background": "light"
          }
        }
      ]
    },
    {
      "cell_type": "code",
      "metadata": {
        "id": "OSXXryKwyq8O",
        "colab": {
          "base_uri": "https://localhost:8080/",
          "height": 279
        },
        "outputId": "298dd1b4-da39-4ea3-c4b5-35c4cb27bb4a"
      },
      "source": [
        "plt.scatter(df_test.Size, y_pred, color='blue')\n",
        "plt.xlabel(\"Size\")\n",
        "plt.ylabel(\"Time\")\n",
        "plt.show()"
      ],
      "execution_count": 15,
      "outputs": [
        {
          "output_type": "display_data",
          "data": {
            "image/png": "[encoded data removed]",
            "text/plain": [
              "<Figure size 432x288 with 1 Axes>"
            ]
          },
          "metadata": {
            "needs_background": "light"
          }
        }
      ]
    }
  ]
}
